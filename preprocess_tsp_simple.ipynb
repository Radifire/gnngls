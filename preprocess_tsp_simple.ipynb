{
 "cells": [
  {
   "cell_type": "code",
   "execution_count": 1,
   "id": "affected-adaptation",
   "metadata": {},
   "outputs": [],
   "source": [
    "import networkx as nx\n",
    "import numpy as np\n",
    "import itertools"
   ]
  },
  {
   "cell_type": "code",
   "execution_count": 2,
   "id": "lasting-initial",
   "metadata": {},
   "outputs": [],
   "source": [
    "G = nx.Graph()\n",
    "\n",
    "with open('tsp10_concorde.txt') as data_file:\n",
    "    for line in data_file:\n",
    "        problem_str, solution_str = line.split('output')\n",
    "\n",
    "        node_data = iter(problem_str.strip().split(' '))\n",
    "        node_counter = 0\n",
    "        nodes = {}\n",
    "        for x in node_data:\n",
    "            y = next(node_data)\n",
    "            pos = [float(x), float(y)]\n",
    "            nodes[node_counter] = pos\n",
    "            node_counter += 1\n",
    "\n",
    "        solution = [int(x) - 1 for x in solution_str.strip().split(' ')]\n",
    "        solution_edges = [e for e in zip(solution[:-1], solution[1:])]\n",
    "\n",
    "        offset = len(G.nodes)\n",
    "        for i in nodes:\n",
    "            G.add_node(offset + i, x=nodes[i][0], y=nodes[i][1])\n",
    "        for i, j in itertools.combinations(nodes, 2):\n",
    "            G.add_edge(offset + i, offset + j, in_solution=(i, j) in solution_edges)"
   ]
  },
  {
   "cell_type": "code",
   "execution_count": 3,
   "id": "expired-ceramic",
   "metadata": {},
   "outputs": [],
   "source": [
    "nx.write_graphml(G, 'tsp10_concorde.xml')"
   ]
  },
  {
   "cell_type": "code",
   "execution_count": null,
   "id": "professional-specialist",
   "metadata": {},
   "outputs": [],
   "source": []
  }
 ],
 "metadata": {
  "kernelspec": {
   "display_name": "Python 3",
   "language": "python",
   "name": "python3"
  },
  "language_info": {
   "codemirror_mode": {
    "name": "ipython",
    "version": 3
   },
   "file_extension": ".py",
   "mimetype": "text/x-python",
   "name": "python",
   "nbconvert_exporter": "python",
   "pygments_lexer": "ipython3",
   "version": "3.8.5"
  }
 },
 "nbformat": 4,
 "nbformat_minor": 5
}
