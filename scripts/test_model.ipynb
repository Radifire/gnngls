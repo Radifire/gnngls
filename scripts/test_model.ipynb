{
 "cells": [
  {
   "cell_type": "code",
   "execution_count": null,
   "id": "unnecessary-initial",
   "metadata": {},
   "outputs": [],
   "source": [
    "import edge_prediction_model"
   ]
  },
  {
   "cell_type": "code",
   "execution_count": null,
   "id": "fourth-martial",
   "metadata": {},
   "outputs": [],
   "source": [
    "import torch\n",
    "import torch.nn.functional as F\n",
    "import dgl\n",
    "\n",
    "import numpy as np\n",
    "import networkx as nx\n",
    "import pathlib\n",
    "import pickle\n",
    "import random\n",
    "import tqdm.auto as tqdm\n",
    "import multiprocessing as mp\n",
    "\n",
    "from sklearn.metrics import f1_score, accuracy_score\n",
    "from matplotlib import pyplot as plt\n",
    "from matplotlib.colors import ListedColormap"
   ]
  },
  {
   "cell_type": "code",
   "execution_count": null,
   "id": "tamil-federation",
   "metadata": {},
   "outputs": [],
   "source": [
    "device = torch.device('cuda' if torch.cuda.is_available() else 'cpu')"
   ]
  },
  {
   "cell_type": "code",
   "execution_count": null,
   "id": "instant-climb",
   "metadata": {},
   "outputs": [],
   "source": [
    "model = edge_prediction_model.Net(19, 256, 2, 8, F.relu)\n",
    "model.load_state_dict(torch.load('../models/net_256_8_relu_0.0005_0.99_64_100.bin'))\n",
    "model.to(device)\n",
    "model.eval()"
   ]
  },
  {
   "cell_type": "code",
   "execution_count": null,
   "id": "requested-captain",
   "metadata": {},
   "outputs": [],
   "source": [
    "def beam_search(g):\n",
    "    depot = next(iter(g.nodes))\n",
    "    solution = [depot]\n",
    "\n",
    "    while len(solution) < len(g.nodes):\n",
    "        i = solution[-1]\n",
    "        neighbours = [(j, g.edges[(i, j)]['y_prob']) for j in g.neighbors(i) if j not in solution]\n",
    "\n",
    "        nodes, p = zip(*neighbours)\n",
    "\n",
    "        j = np.random.choice(nodes, p=np.array(p)/np.sum(p))\n",
    "\n",
    "        solution.append(j)\n",
    "\n",
    "    solution.append(depot)\n",
    "    return solution\n",
    "\n",
    "def solution_cost(g, solution):\n",
    "    c = 0\n",
    "    for i, j in zip(solution[:-1], solution[1:]):\n",
    "        d = np.linalg.norm(g.nodes[j]['pos'] - g.nodes[i]['pos'])\n",
    "        c += d\n",
    "    return c"
   ]
  },
  {
   "cell_type": "code",
   "execution_count": null,
   "id": "exposed-birth",
   "metadata": {},
   "outputs": [],
   "source": [
    "data_dir = pathlib.Path('/local/scratch/bh511/data/150000_instances')\n",
    "\n",
    "test_set = [l.strip() for l in open(data_dir / 'test.txt')]\n",
    "scaler = pickle.load(open(data_dir / 'scaler.pkl', 'rb'))"
   ]
  },
  {
   "cell_type": "code",
   "execution_count": null,
   "id": "double-response",
   "metadata": {},
   "outputs": [],
   "source": [
    "pool = mp.Pool(processes=None)\n",
    "\n",
    "gaps = []\n",
    "for test_path in tqdm.tqdm(test_set):\n",
    "    g = nx.read_gpickle(test_path)\n",
    "    lg = nx.line_graph(g)\n",
    "\n",
    "    features = {e: scaler.transform(g.edges[e]['x'][np.newaxis, :]).squeeze() for e in lg.nodes}\n",
    "    labels = {e: g.edges[e]['y'] for e in lg.nodes}\n",
    "    edges = {e: e for e in lg.nodes}\n",
    "    nx.set_node_attributes(lg, features, 'x')\n",
    "    nx.set_node_attributes(lg, labels, 'y')\n",
    "    nx.set_node_attributes(lg, edges, 'e')\n",
    "\n",
    "    h = dgl.from_networkx(lg, node_attrs=['x', 'y', 'e'])\n",
    "    h = h.to(device)\n",
    "    x = h.ndata['x']\n",
    "    y = h.ndata['y']\n",
    "    e = h.ndata['e']\n",
    "\n",
    "    with torch.no_grad():\n",
    "        y_pred = model(h, x)\n",
    "        y_prob = F.softmax(y_pred, dim=1)\n",
    "\n",
    "#     in_solution = {e: float(g.edges[e]['y'][0]) for e in g.edges}\n",
    "    p_in_solution = {tuple(k): v[1] for k, v in zip(e.cpu().numpy(), y_prob.cpu().numpy())}\n",
    "    nx.set_edge_attributes(g, p_in_solution, 'y_prob')\n",
    "\n",
    "    optimal_cost = 0\n",
    "    for e in g.edges:\n",
    "        if g.edges[e]['y'].squeeze() == 1:\n",
    "            d = np.linalg.norm(g.nodes[e[1]]['pos'] - g.nodes[e[0]]['pos'])\n",
    "            optimal_cost += d\n",
    "\n",
    "    best_solution = None\n",
    "    best_cost = 0\n",
    "\n",
    "    def beam_search_pool(g, n):\n",
    "        for i in range(n):\n",
    "            yield g\n",
    "\n",
    "    for solution in pool.imap(beam_search, beam_search_pool(g, 100)):\n",
    "        cost = solution_cost(g, solution)\n",
    "        if best_solution is None or cost < best_cost:\n",
    "            best_solution = solution\n",
    "            best_cost = cost\n",
    "\n",
    "    gap = 100*(best_cost - optimal_cost)/optimal_cost\n",
    "    gaps.append(gap)"
   ]
  },
  {
   "cell_type": "code",
   "execution_count": null,
   "id": "certified-importance",
   "metadata": {},
   "outputs": [],
   "source": [
    "g = nx.read_gpickle(test_set[np.argmin(gaps)])\n",
    "lg = nx.line_graph(g)\n",
    "\n",
    "features = {e: scaler.transform(g.edges[e]['x'][np.newaxis, :]).squeeze() for e in lg.nodes}\n",
    "labels = {e: g.edges[e]['y'] for e in lg.nodes}\n",
    "edges = {e: e for e in lg.nodes}\n",
    "nx.set_node_attributes(lg, features, 'x')\n",
    "nx.set_node_attributes(lg, labels, 'y')\n",
    "nx.set_node_attributes(lg, edges, 'e')\n",
    "\n",
    "h = dgl.from_networkx(lg, node_attrs=['x', 'y', 'e'])\n",
    "h = h.to(device)\n",
    "x = h.ndata['x']\n",
    "y = h.ndata['y']\n",
    "e = h.ndata['e']\n",
    "\n",
    "with torch.no_grad():\n",
    "    y_pred = model(h, x)\n",
    "    y_prob = F.softmax(y_pred, dim=1)\n",
    "\n",
    "p_in_solution = {tuple(k): v[1] for k, v in zip(e.cpu().numpy(), y_prob.cpu().numpy())}\n",
    "nx.set_edge_attributes(g, p_in_solution, 'y_prob')\n",
    "\n",
    "optimal_cost = 0\n",
    "for e in g.edges:\n",
    "    if g.edges[e]['y'].squeeze() == 1:\n",
    "        d = np.linalg.norm(g.nodes[e[1]]['pos'] - g.nodes[e[0]]['pos'])\n",
    "        optimal_cost += d\n",
    "\n",
    "best_solution = None\n",
    "best_cost = 0\n",
    "\n",
    "def beam_search_pool(g, n):\n",
    "    for i in range(n):\n",
    "        yield g\n",
    "\n",
    "for solution in pool.imap(beam_search, beam_search_pool(g, 100)):\n",
    "    cost = solution_cost(g, solution)\n",
    "    if best_solution is None or cost < best_cost:\n",
    "        best_solution = solution\n",
    "        best_cost = cost\n",
    "        \n",
    "gap = 100*(best_cost - optimal_cost)/optimal_cost"
   ]
  },
  {
   "cell_type": "code",
   "execution_count": null,
   "id": "interior-hamilton",
   "metadata": {},
   "outputs": [],
   "source": [
    "solution_edges = list(zip(best_solution[:-1], best_solution[1:]))\n",
    "new_solution = {e: float(e in solution_edges or tuple(reversed(e)) in solution_edges) for e in g.edges}"
   ]
  },
  {
   "cell_type": "code",
   "execution_count": null,
   "id": "pleasant-flush",
   "metadata": {},
   "outputs": [],
   "source": [
    "in_solution = {e: float(g.edges[e]['y'].squeeze()) for e in g.edges}"
   ]
  },
  {
   "cell_type": "code",
   "execution_count": null,
   "id": "designing-sapphire",
   "metadata": {},
   "outputs": [],
   "source": [
    "cmap_colors = np.zeros((100, 4))\n",
    "cmap_colors[:, 0] = 1\n",
    "cmap_colors[:, 3] = np.linspace(0, 1, 100)\n",
    "cmap = ListedColormap(cmap_colors)\n",
    "\n",
    "pos = nx.get_node_attributes(g, 'pos')\n",
    "\n",
    "fig, ax = plt.subplots(1, 3, figsize=(15, 5))\n",
    "\n",
    "nx.draw(g, pos, edge_color=in_solution.values(), edge_cmap=cmap, ax=ax[0], edge_vmax=1, edge_vmin=0)\n",
    "nx.draw(g, pos, edge_color=p_in_solution.values(), edge_cmap=cmap, ax=ax[1], edge_vmax=1, edge_vmin=0)\n",
    "nx.draw(g, pos, edge_color=new_solution.values(), edge_cmap=cmap, ax=ax[2], edge_vmax=1, edge_vmin=0)\n",
    "ax[0].set_title(f'Optimal Solution (cost={optimal_cost:.3f})')\n",
    "ax[1].set_title('Edge likelihoods')\n",
    "ax[2].set_title(f'Reconstructed Solution (cost={best_cost:.3f}, gap={gap:.3f}%)')"
   ]
  },
  {
   "cell_type": "code",
   "execution_count": null,
   "id": "after-legislation",
   "metadata": {},
   "outputs": [],
   "source": [
    "np.mean(gaps)"
   ]
  },
  {
   "cell_type": "code",
   "execution_count": null,
   "id": "dietary-toilet",
   "metadata": {},
   "outputs": [],
   "source": [
    "test_set[np.argmax(gaps)]"
   ]
  },
  {
   "cell_type": "code",
   "execution_count": null,
   "id": "occupational-contribution",
   "metadata": {},
   "outputs": [],
   "source": []
  }
 ],
 "metadata": {
  "kernelspec": {
   "display_name": "Python 3",
   "language": "python",
   "name": "python3"
  },
  "language_info": {
   "codemirror_mode": {
    "name": "ipython",
    "version": 3
   },
   "file_extension": ".py",
   "mimetype": "text/x-python",
   "name": "python",
   "nbconvert_exporter": "python",
   "pygments_lexer": "ipython3",
   "version": "3.8.5"
  }
 },
 "nbformat": 4,
 "nbformat_minor": 5
}
