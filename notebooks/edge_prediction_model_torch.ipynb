{
 "cells": [
  {
   "cell_type": "code",
   "execution_count": null,
   "id": "absolute-patch",
   "metadata": {},
   "outputs": [],
   "source": [
    "import os\n",
    "backend = 'pytorch'\n",
    "os.environ['DGLBACKEND'] = backend"
   ]
  },
  {
   "cell_type": "code",
   "execution_count": null,
   "id": "generic-crown",
   "metadata": {},
   "outputs": [],
   "source": [
    "import torch\n",
    "import dgl\n",
    "import networkx as nx\n",
    "import tqdm.auto as tqdm\n",
    "import pickle\n",
    "import numpy as np\n",
    "\n",
    "import torch.nn as nn\n",
    "import torch.nn.functional as F\n",
    "import dgl.nn\n",
    "\n",
    "from torch.utils.tensorboard import SummaryWriter\n",
    "from torch.utils.data import DataLoader\n",
    "from sklearn.model_selection import train_test_split\n",
    "from matplotlib import pyplot as plt\n",
    "from matplotlib.colors import ListedColormap"
   ]
  },
  {
   "cell_type": "code",
   "execution_count": null,
   "id": "indirect-trauma",
   "metadata": {},
   "outputs": [],
   "source": [
    "device = torch.device('cuda' if torch.cuda.is_available() else 'cpu')"
   ]
  },
  {
   "cell_type": "code",
   "execution_count": null,
   "id": "brazilian-authority",
   "metadata": {},
   "outputs": [],
   "source": [
    "class Net(nn.Module):\n",
    "    def __init__(self, in_size, out_size, hidden_size, n_hidden=1, n_heads=1):\n",
    "        super().__init__()\n",
    "        \n",
    "        self.hidden_size = hidden_size\n",
    "        self.n_heads = n_heads\n",
    "        \n",
    "        msg_layers = [\n",
    "#             dgl.nn.GATConv(in_size, hidden_size, num_heads=self.n_heads),\n",
    "            dgl.nn.GatedGraphConv(in_size, hidden_size*self.n_heads, n_steps=1, n_etypes=1),\n",
    "            nn.Dropout(p=0.5)\n",
    "        ]\n",
    "        for _ in range(n_hidden - 1):\n",
    "            msg_layers += [\n",
    "#                 dgl.nn.GATConv(hidden_size*self.n_heads, hidden_size, num_heads=self.n_heads),\n",
    "                dgl.nn.GatedGraphConv(hidden_size, hidden_size*self.n_heads, n_steps=1, n_etypes=1),\n",
    "                nn.Dropout(p=0.5),\n",
    "            ]\n",
    "\n",
    "        self.msg_layers = nn.ModuleList(msg_layers)\n",
    "        \n",
    "        self.output_layer = nn.Linear(hidden_size*self.n_heads, out_size)\n",
    "    \n",
    "    def forward(self, g, h):        \n",
    "        for l in self.msg_layers:\n",
    "            if isinstance(l, nn.Dropout):\n",
    "                h = l(h)\n",
    "            else:\n",
    "                etypes = torch.zeros(g.number_of_edges(), device=device)\n",
    "#                 h = F.elu(l(g, h, etypes))\n",
    "                h = F.leaky_relu(l(g, h, etypes), negative_slope=0.1)\n",
    "#                 h = F.elu(l(g, h))\n",
    "                h = h.view((-1, self.hidden_size*self.n_heads))\n",
    "            \n",
    "        h = self.output_layer(h)\n",
    "        \n",
    "        return h"
   ]
  },
  {
   "cell_type": "code",
   "execution_count": null,
   "id": "taken-minnesota",
   "metadata": {},
   "outputs": [],
   "source": [
    "dgl_graphs, _ = dgl.data.utils.load_graphs(f'../data/dgl_graphs_{backend}.bin')\n",
    "dgl_graphs = [g.to(device) for g in dgl_graphs]\n",
    "nx_graphs = nx.read_gpickle(f'../data/nx_graphs_{backend}.pkl')\n",
    "\n",
    "dataset = list(zip(dgl_graphs, nx_graphs))\n",
    "\n",
    "train_set, test_set = train_test_split(dataset, train_size=0.7, shuffle=True)\n",
    "train_set, val_set = train_test_split(train_set, train_size=0.7, shuffle=True)"
   ]
  },
  {
   "cell_type": "code",
   "execution_count": null,
   "id": "associate-installation",
   "metadata": {},
   "outputs": [],
   "source": [
    "train_set, _ = zip(*train_set)\n",
    "val_set, _ = zip(*val_set)"
   ]
  },
  {
   "cell_type": "code",
   "execution_count": null,
   "id": "dominican-average",
   "metadata": {},
   "outputs": [],
   "source": [
    "net = Net(18, 2, 64, n_hidden=4, n_heads=4)\n",
    "if torch.cuda.is_available():\n",
    "    net = net.cuda()\n",
    "\n",
    "optimizer = torch.optim.Adam(net.parameters(), lr=1e-3)\n",
    "\n",
    "# because we only want to send w to GPU once\n",
    "y = train_set[0].ndata['y']\n",
    "pos_weight = len(y)/y.sum() - 1\n",
    "w = torch.FloatTensor([1, pos_weight]).to(device)\n",
    "\n",
    "criterion = torch.nn.CrossEntropyLoss(weight=w)\n",
    "\n",
    "batch_size = 32\n",
    "n_epochs = 500\n",
    "\n",
    "data_loader = DataLoader(train_set, batch_size=batch_size, shuffle=True, collate_fn=dgl.batch)\n",
    "\n",
    "writer = SummaryWriter()\n",
    "\n",
    "pbar = tqdm.trange(n_epochs)\n",
    "for epoch in pbar:\n",
    "    net.train()\n",
    "\n",
    "    epoch_loss = 0\n",
    "    for batch_i, batch in enumerate(data_loader):\n",
    "        x = batch.ndata['x']\n",
    "        y = batch.ndata['y']\n",
    "\n",
    "#         pos_weight = len(y)/y.sum() - 1\n",
    "#         w = torch.FloatTensor([1, pos_weight]).to(device)\n",
    "\n",
    "        optimizer.zero_grad()\n",
    "        y_pred = net(batch, x)\n",
    "        loss = criterion(y_pred, y.squeeze())\n",
    "        loss.backward()\n",
    "        optimizer.step()\n",
    "\n",
    "        epoch_loss += loss.detach().item()\n",
    "\n",
    "    epoch_loss /= (batch_i + 1)\n",
    "    writer.add_scalar(\"Loss/train\", epoch_loss, epoch)\n",
    "\n",
    "    with torch.no_grad():\n",
    "        net.eval()\n",
    "        batch = dgl.batch(val_set)\n",
    "\n",
    "        x = batch.ndata['x']\n",
    "        y = batch.ndata['y']\n",
    "\n",
    "#         pos_weight = len(y)/y.sum() - 1\n",
    "#         w = torch.FloatTensor([1, pos_weight]).to(device)\n",
    "\n",
    "        y_pred = net(batch, x)\n",
    "        val_loss = criterion(y_pred, y.squeeze())\n",
    "        writer.add_scalar(\"Loss/validation\", val_loss, epoch)\n",
    "\n",
    "    pbar.set_postfix({\n",
    "        'Train Loss': '{:.4f}'.format(epoch_loss),\n",
    "        'Validation Loss': '{:.4f}'.format(val_loss),\n",
    "    })\n",
    "\n",
    "    writer.flush()\n",
    "\n",
    "writer.close()"
   ]
  },
  {
   "cell_type": "code",
   "execution_count": null,
   "id": "velvet-nepal",
   "metadata": {},
   "outputs": [],
   "source": [
    "dgl_g, nx_g = test_set[1]"
   ]
  },
  {
   "cell_type": "code",
   "execution_count": null,
   "id": "sensitive-dispatch",
   "metadata": {},
   "outputs": [],
   "source": [
    "x = dgl_g.ndata['x']\n",
    "y = dgl_g.ndata['y']\n",
    "idx2edge = dgl_g.ndata['e']"
   ]
  },
  {
   "cell_type": "code",
   "execution_count": null,
   "id": "classical-silver",
   "metadata": {},
   "outputs": [],
   "source": [
    "with torch.no_grad():\n",
    "    y_pred = net(dgl_g, x)\n",
    "    y_prob = F.softmax(y_pred, dim=1)\n",
    "\n",
    "    for e, p in zip(idx2edge.cpu().numpy(), y_prob.cpu().numpy()):\n",
    "        nx_g.edges[e]['p_in_solution'] = p[1]\n",
    "\n",
    "in_solution = nx.get_edge_attributes(nx_g, 'in_solution')\n",
    "in_greedy_solution = nx.get_edge_attributes(nx_g, 'in_greedy_solution')\n",
    "p_in_solution = nx.get_edge_attributes(nx_g, 'p_in_solution')"
   ]
  },
  {
   "cell_type": "code",
   "execution_count": null,
   "id": "engaged-netscape",
   "metadata": {},
   "outputs": [],
   "source": [
    "cmap_colors = np.zeros((100, 4))\n",
    "cmap_colors[:, 0] = 1\n",
    "cmap_colors[:, 3] = np.linspace(0, 1, 100)\n",
    "cmap = ListedColormap(cmap_colors)"
   ]
  },
  {
   "cell_type": "code",
   "execution_count": null,
   "id": "solar-husband",
   "metadata": {},
   "outputs": [],
   "source": [
    "pos = {n: (nx_g.nodes[n]['x'], nx_g.nodes[n]['y']) for n in nx_g.nodes}\n",
    "\n",
    "fig, ax = plt.subplots(1, 3, figsize=(15, 5))\n",
    "\n",
    "nx.draw(nx_g, pos, edge_color=in_solution.values(), edge_cmap=cmap, ax=ax[0], edge_vmax=1, edge_vmin=0)\n",
    "nx.draw(nx_g, pos, edge_color=in_greedy_solution.values(), edge_cmap=cmap, ax=ax[1], edge_vmax=1, edge_vmin=0)\n",
    "nx.draw(nx_g, pos, edge_color=p_in_solution.values(), edge_cmap=cmap, ax=ax[2], edge_vmax=1, edge_vmin=0)\n",
    "ax[0].set_title('Optimal Solution')\n",
    "ax[1].set_title('Greedy Solution')\n",
    "ax[2].set_title('Output')"
   ]
  },
  {
   "cell_type": "code",
   "execution_count": null,
   "id": "otherwise-mileage",
   "metadata": {},
   "outputs": [],
   "source": [
    "# torch.save(net.state_dict(), 'net_Jan23_23-28-23_VEGA.bin')"
   ]
  },
  {
   "cell_type": "code",
   "execution_count": null,
   "id": "parallel-victorian",
   "metadata": {},
   "outputs": [],
   "source": [
    "y_prob.cpu().numpy()"
   ]
  },
  {
   "cell_type": "code",
   "execution_count": null,
   "id": "opened-garbage",
   "metadata": {},
   "outputs": [],
   "source": []
  }
 ],
 "metadata": {
  "kernelspec": {
   "display_name": "Python 3",
   "language": "python",
   "name": "python3"
  },
  "language_info": {
   "codemirror_mode": {
    "name": "ipython",
    "version": 3
   },
   "file_extension": ".py",
   "mimetype": "text/x-python",
   "name": "python",
   "nbconvert_exporter": "python",
   "pygments_lexer": "ipython3",
   "version": "3.8.5"
  }
 },
 "nbformat": 4,
 "nbformat_minor": 5
}
