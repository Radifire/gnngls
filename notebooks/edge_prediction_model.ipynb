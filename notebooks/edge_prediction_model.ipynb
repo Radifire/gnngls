{
 "cells": [
  {
   "cell_type": "code",
   "execution_count": null,
   "id": "absolute-patch",
   "metadata": {},
   "outputs": [],
   "source": [
    "import os\n",
    "backend = 'pytorch'\n",
    "os.environ['DGLBACKEND'] = backend"
   ]
  },
  {
   "cell_type": "code",
   "execution_count": null,
   "id": "generic-crown",
   "metadata": {},
   "outputs": [],
   "source": [
    "import torch\n",
    "import dgl\n",
    "import networkx as nx\n",
    "import tqdm.auto as tqdm\n",
    "import pickle\n",
    "import numpy as np\n",
    "import pathlib\n",
    "\n",
    "import torch.nn as nn\n",
    "import torch.nn.functional as F\n",
    "import dgl.nn\n",
    "\n",
    "from torch.utils.tensorboard import SummaryWriter\n",
    "from torch.utils.data import DataLoader\n",
    "from sklearn.metrics import f1_score, accuracy_score\n",
    "from matplotlib import pyplot as plt\n",
    "from matplotlib.colors import ListedColormap"
   ]
  },
  {
   "cell_type": "code",
   "execution_count": null,
   "id": "indirect-trauma",
   "metadata": {},
   "outputs": [],
   "source": [
    "device = torch.device('cuda' if torch.cuda.is_available() else 'cpu')"
   ]
  },
  {
   "cell_type": "code",
   "execution_count": null,
   "id": "swiss-formula",
   "metadata": {},
   "outputs": [],
   "source": [
    "data_dir = pathlib.Path('/local/scratch/bh511/data/100000_instances')\n",
    "\n",
    "train_set, _ = dgl.load_graphs(str(data_dir / 'train_graphs.bin'))\n",
    "val_set, _ = dgl.load_graphs(str(data_dir / 'val_graphs.bin'))\n",
    "val_set = val_set[:1000] # trim so it fits on the GPU"
   ]
  },
  {
   "cell_type": "code",
   "execution_count": null,
   "id": "numerical-negative",
   "metadata": {},
   "outputs": [],
   "source": [
    "def prepare_batch(paths):\n",
    "    H = []\n",
    "    for path in paths:\n",
    "        g = nx.read_gpickle(path)\n",
    "\n",
    "        lg = nx.line_graph(g)\n",
    "        features = {e: scaler.transform(g.edges[e]['x'][np.newaxis, :]).squeeze() for e in lg.nodes}\n",
    "        labels = {e: g.edges[e]['y'] for e in lg.nodes}\n",
    "        nx.set_node_attributes(lg, features, 'x')\n",
    "        nx.set_node_attributes(lg, labels, 'y')\n",
    "\n",
    "        h = dgl.from_networkx(lg, node_attrs=['x', 'y'])\n",
    "        H.append(h)\n",
    "    \n",
    "    return dgl.batch(H)"
   ]
  },
  {
   "cell_type": "code",
   "execution_count": null,
   "id": "behavioral-cincinnati",
   "metadata": {},
   "outputs": [],
   "source": [
    "class Net(nn.Module):\n",
    "    def __init__(self, in_size, hidden_size, out_size, n_steps, activation=F.relu, dropout=0.0):\n",
    "        super().__init__()\n",
    "        \n",
    "        self.activation = activation\n",
    "        \n",
    "        log2_in_size = max(np.floor(np.log2(in_size)).astype(int), 5) # min size = 32\n",
    "        log2_hidden_size = np.floor(np.log2(hidden_size)).astype(int)\n",
    "        log2_out_size = max(np.floor(np.log2(out_size)).astype(int), 5) # min size = 32\n",
    "        \n",
    "        embedding_layer_sizes = [2**x for x in range(log2_in_size, log2_hidden_size + 1)]\n",
    "        embedding_layer_sizes.insert(0, in_size)\n",
    "        \n",
    "        decision_layer_sizes = [2**(-x) for x in range(-log2_hidden_size, -log2_out_size + 1)]\n",
    "        decision_layer_sizes.append(out_size)\n",
    "        \n",
    "        self.embedding_layers = nn.ModuleList([nn.Linear(s1, s2) for s1, s2 in zip(embedding_layer_sizes[:-1], embedding_layer_sizes[1:])])\n",
    "        \n",
    "        self.msg_layer = dgl.nn.GatedGraphConv(hidden_size, hidden_size, n_steps=n_steps, n_etypes=1)\n",
    "        \n",
    "        self.decision_layers = nn.ModuleList([nn.Linear(s1, s2) for s1, s2 in zip(decision_layer_sizes[:-1], decision_layer_sizes[1:])])\n",
    "    \n",
    "    def forward(self, g, h):\n",
    "        for l in self.embedding_layers:\n",
    "            h = self.activation(l(h))\n",
    "                \n",
    "        etypes = torch.zeros(g.number_of_edges(), device=h.device)\n",
    "        h = self.activation(self.msg_layer(g, h, etypes))\n",
    "        \n",
    "        for l in self.decision_layers[:-1]:\n",
    "            h = self.activation(l(h))\n",
    "        h = self.decision_layers[-1](h) # no activation on output layer\n",
    "        \n",
    "        return h"
   ]
  },
  {
   "cell_type": "code",
   "execution_count": null,
   "id": "reserved-spencer",
   "metadata": {},
   "outputs": [],
   "source": [
    "hidden_size = 256\n",
    "n_steps = 4\n",
    "activation_name = 'relu'\n",
    "activation = getattr(F, activation_name)\n",
    "batch_size = 128"
   ]
  },
  {
   "cell_type": "code",
   "execution_count": null,
   "id": "italic-elimination",
   "metadata": {},
   "outputs": [],
   "source": [
    "in_size = train_set[0].ndata['x'].shape[1]\n",
    "net = Net(in_size, hidden_size, 2, n_steps, activation)\n",
    "net"
   ]
  },
  {
   "cell_type": "code",
   "execution_count": null,
   "id": "behavioral-picnic",
   "metadata": {},
   "outputs": [],
   "source": [
    "if torch.cuda.is_available():\n",
    "    net = net.cuda()\n",
    "\n",
    "optimizer = torch.optim.Adam(net.parameters(), lr=5e-4)\n",
    "# lr_sched = torch.optim.lr_scheduler.ExponentialLR(optimizer, 0.01)\n",
    "\n",
    "n_epochs = 100\n",
    "\n",
    "data_loader = DataLoader(train_set, batch_size=batch_size, shuffle=True, collate_fn=dgl.batch)\n",
    "\n",
    "writer = SummaryWriter()\n",
    "\n",
    "pbar = tqdm.trange(n_epochs)\n",
    "for epoch in pbar:\n",
    "    net.train()\n",
    "\n",
    "    epoch_loss = 0\n",
    "    for batch_i, batch in enumerate(data_loader):\n",
    "        batch = batch.to(device)\n",
    "        x = batch.ndata['x']\n",
    "        y = batch.ndata['y']\n",
    "\n",
    "        pos_weight = len(y)/y.sum() - 1\n",
    "        w = torch.FloatTensor([1, pos_weight]).to(device)\n",
    "        criterion = torch.nn.CrossEntropyLoss(weight=w)\n",
    "        \n",
    "        optimizer.zero_grad()\n",
    "        y_pred = net(batch, x)\n",
    "        loss = criterion(y_pred, y.squeeze())\n",
    "        loss.backward()\n",
    "        optimizer.step()\n",
    "\n",
    "        epoch_loss += loss.detach().item()\n",
    "\n",
    "    epoch_loss /= (batch_i + 1)\n",
    "    writer.add_scalar(\"Loss/train\", epoch_loss, epoch)\n",
    "\n",
    "    with torch.no_grad():\n",
    "        net.eval()\n",
    "        batch = dgl.batch(val_set).to(device)\n",
    "\n",
    "        x = batch.ndata['x']\n",
    "        y = batch.ndata['y']\n",
    "\n",
    "        pos_weight = len(y)/y.sum() - 1\n",
    "        w = torch.FloatTensor([1, pos_weight]).to(device)\n",
    "        criterion = torch.nn.CrossEntropyLoss(weight=w)\n",
    "\n",
    "        y_pred = net(batch, x)\n",
    "        val_loss = criterion(y_pred, y.squeeze())\n",
    "        writer.add_scalar(\"Loss/validation\", val_loss, epoch)\n",
    "        \n",
    "        y_prob = F.softmax(y_pred, dim=1).cpu()\n",
    "        f1 = f1_score(y.squeeze().cpu(), y_prob[:, 1] > 0.5)\n",
    "        acc = accuracy_score(y.squeeze().cpu(), y_prob[:, 1] > 0.5)\n",
    "        writer.add_scalar(\"Metrics/F1 Score/validation\", f1, epoch)\n",
    "        writer.add_scalar(\"Metrics/Accuracy/validation\", acc, epoch)\n",
    "\n",
    "    pbar.set_postfix({\n",
    "        'Train Loss': '{:.4f}'.format(epoch_loss),\n",
    "        'Validation Loss': '{:.4f}'.format(val_loss),\n",
    "    })\n",
    "\n",
    "    writer.flush()\n",
    "    \n",
    "#     lr_sched.step()\n",
    "\n",
    "writer.close()"
   ]
  },
  {
   "cell_type": "code",
   "execution_count": null,
   "id": "velvet-nepal",
   "metadata": {},
   "outputs": [],
   "source": [
    "test_set = [l.strip() for l in open(data_dir / 'test.txt')]\n",
    "scaler = pickle.load(open(data_dir / 'scaler.pkl', 'rb'))"
   ]
  },
  {
   "cell_type": "code",
   "execution_count": null,
   "id": "sensitive-dispatch",
   "metadata": {},
   "outputs": [],
   "source": [
    "g = nx.read_gpickle(test_set[7])\n",
    "lg = nx.line_graph(g)\n",
    "\n",
    "features = {e: scaler.transform(g.edges[e]['x'][np.newaxis, :]).squeeze() for e in lg.nodes}\n",
    "labels = {e: g.edges[e]['y'] for e in lg.nodes}\n",
    "edges = {e: e for e in lg.nodes}\n",
    "nx.set_node_attributes(lg, features, 'x')\n",
    "nx.set_node_attributes(lg, labels, 'y')\n",
    "nx.set_node_attributes(lg, edges, 'e')\n",
    "\n",
    "h = dgl.from_networkx(lg, node_attrs=['x', 'y', 'e'])"
   ]
  },
  {
   "cell_type": "code",
   "execution_count": null,
   "id": "recorded-trial",
   "metadata": {},
   "outputs": [],
   "source": [
    "h = h.to(device)\n",
    "x = h.ndata['x']\n",
    "y = h.ndata['y']\n",
    "e = h.ndata['e']\n",
    "\n",
    "with torch.no_grad():\n",
    "    y_pred = net(h, x)\n",
    "    y_prob = F.softmax(y_pred, dim=1)"
   ]
  },
  {
   "cell_type": "code",
   "execution_count": null,
   "id": "convenient-chick",
   "metadata": {},
   "outputs": [],
   "source": [
    "p_in_solution = {tuple(k): v[1] for k, v in zip(e.cpu().numpy(), y_prob.cpu().numpy())}\n",
    "in_solution = {e: float(g.edges[e]['y'][0]) for e in g.edges}"
   ]
  },
  {
   "cell_type": "code",
   "execution_count": null,
   "id": "engaged-netscape",
   "metadata": {},
   "outputs": [],
   "source": [
    "cmap_colors = np.zeros((100, 4))\n",
    "cmap_colors[:, 0] = 1\n",
    "cmap_colors[:, 3] = np.linspace(0, 1, 100)\n",
    "cmap = ListedColormap(cmap_colors)"
   ]
  },
  {
   "cell_type": "code",
   "execution_count": null,
   "id": "solar-husband",
   "metadata": {},
   "outputs": [],
   "source": [
    "pos = nx.get_node_attributes(g, 'pos')\n",
    "\n",
    "fig, ax = plt.subplots(1, 2, figsize=(10, 5))\n",
    "\n",
    "nx.draw(g, pos, edge_color=in_solution.values(), edge_cmap=cmap, ax=ax[0], edge_vmax=1, edge_vmin=0)\n",
    "nx.draw(g, pos, edge_color=p_in_solution.values(), edge_cmap=cmap, ax=ax[1], edge_vmax=1, edge_vmin=0)\n",
    "ax[0].set_title('Optimal Solution')\n",
    "ax[1].set_title('Output')"
   ]
  },
  {
   "cell_type": "code",
   "execution_count": null,
   "id": "otherwise-mileage",
   "metadata": {},
   "outputs": [],
   "source": [
    "torch.save(net.state_dict(), 'net.bin')"
   ]
  },
  {
   "cell_type": "code",
   "execution_count": null,
   "id": "opened-garbage",
   "metadata": {},
   "outputs": [],
   "source": []
  }
 ],
 "metadata": {
  "kernelspec": {
   "display_name": "Python 3",
   "language": "python",
   "name": "python3"
  },
  "language_info": {
   "codemirror_mode": {
    "name": "ipython",
    "version": 3
   },
   "file_extension": ".py",
   "mimetype": "text/x-python",
   "name": "python",
   "nbconvert_exporter": "python",
   "pygments_lexer": "ipython3",
   "version": "3.8.5"
  }
 },
 "nbformat": 4,
 "nbformat_minor": 5
}
