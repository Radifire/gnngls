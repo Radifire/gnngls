{
 "cells": [
  {
   "cell_type": "code",
   "execution_count": null,
   "id": "spatial-crawford",
   "metadata": {},
   "outputs": [],
   "source": [
    "import os\n",
    "backend = 'pytorch'\n",
    "os.environ['DGLBACKEND'] = backend"
   ]
  },
  {
   "cell_type": "code",
   "execution_count": null,
   "id": "organized-panel",
   "metadata": {},
   "outputs": [],
   "source": [
    "# import torch\n",
    "import tensorflow as tf\n",
    "import dgl\n",
    "import networkx as nx\n",
    "import tqdm.auto as tqdm\n",
    "import numpy as np\n",
    "import itertools\n",
    "import pickle\n",
    "from matplotlib import pyplot as plt\n",
    "from matplotlib.colors import ListedColormap"
   ]
  },
  {
   "cell_type": "markdown",
   "id": "medieval-brief",
   "metadata": {},
   "source": [
    "# Parse solutions"
   ]
  },
  {
   "cell_type": "code",
   "execution_count": null,
   "id": "pressed-session",
   "metadata": {},
   "outputs": [],
   "source": [
    "G = nx.Graph()\n",
    "\n",
    "with open('../data/tsp10_concorde_2000.txt') as data_file:\n",
    "    for line in data_file:\n",
    "        problem_str, solution_str = line.split('output')\n",
    "\n",
    "        node_data = iter(problem_str.strip().split(' '))\n",
    "        node_counter = 0\n",
    "        nodes = {}\n",
    "        for x in node_data:\n",
    "            y = next(node_data)\n",
    "            pos = np.array([float(x), float(y)])\n",
    "            nodes[node_counter] = pos\n",
    "            node_counter += 1\n",
    "\n",
    "        solution = [int(x) - 1 for x in solution_str.strip().split(' ')]\n",
    "        solution_edges = [e for e in zip(solution[:-1], solution[1:])]\n",
    "\n",
    "        offset = len(G.nodes)\n",
    "        for i in nodes:\n",
    "            G.add_node(offset + i, x=nodes[i][0], y=nodes[i][1])\n",
    "        for i, j in itertools.combinations(nodes, 2):\n",
    "            w = np.linalg.norm(nodes[i] - nodes[j])\n",
    "            in_solution = (i, j) in solution_edges or (j, i) in solution_edges\n",
    "            G.add_edge(offset + i, offset + j, in_solution=in_solution, weight=w)"
   ]
  },
  {
   "cell_type": "markdown",
   "id": "consolidated-disclosure",
   "metadata": {},
   "source": [
    "# Compute features"
   ]
  },
  {
   "cell_type": "code",
   "execution_count": null,
   "id": "remarkable-netscape",
   "metadata": {},
   "outputs": [],
   "source": [
    "def greedy_tour(g, depot, weight='weight'):\n",
    "    tour = [depot]\n",
    "    while len(tour) < len(g.nodes):\n",
    "        i = tour[-1]\n",
    "        neighbours = [(j, g.edges[(i, j)]['weight']) for j in g.neighbors(i) if j not in tour]\n",
    "        j, dist = min(neighbours, key=lambda e: e[1])\n",
    "        tour.append(j)\n",
    "\n",
    "    tour.append(depot)\n",
    "    return tour\n",
    "\n",
    "def set_greedy_tour(g, depot):\n",
    "    tour = greedy_tour(g, depot)\n",
    "    tour_edges = zip(tour[:-1], tour[1:])\n",
    "\n",
    "    nx.set_edge_attributes(g, False, 'in_greedy_solution')\n",
    "    for e in tour_edges:\n",
    "        g.edges[e]['in_greedy_solution'] = True\n",
    "        "
   ]
  },
  {
   "cell_type": "code",
   "execution_count": null,
   "id": "finished-snake",
   "metadata": {},
   "outputs": [],
   "source": [
    "def set_neighbour_features(g, nn_levels, min_degree):\n",
    "    # calculate knn for each edge\n",
    "    for e in g.edges:\n",
    "        g.edges[e]['neighbour'] = {}\n",
    "\n",
    "    for i in g.nodes:\n",
    "        neighbours = [(j, g.edges[(i, j)]['weight']) for j in g.neighbors(i)]\n",
    "        nearest_neighbours = sorted(neighbours, key=lambda e: e[1])\n",
    "        for k, (j, _) in enumerate(nearest_neighbours):\n",
    "            g.edges[(i, j)]['neighbour'][i] = k\n",
    "            \n",
    "    # knn graphs and nn clique\n",
    "    nx.set_edge_attributes(g, False, 'nn_clique')\n",
    "    for i, level in enumerate(nn_levels):\n",
    "        nx.set_edge_attributes(g, False, f'{i}_nn')\n",
    "\n",
    "    for e in g.edges:\n",
    "        i, j = e\n",
    "        neighbours = g.edges[e]['neighbour']\n",
    "        if neighbours[i] == neighbours[j]:\n",
    "            g.edges[e]['nn_clique'] = True\n",
    "\n",
    "        for level_i, level in enumerate(nn_levels):\n",
    "            g.edges[(i, j)][f'{level_i}_nn'] = (neighbours[i] <= level) or (neighbours[j] <= level)\n",
    "            \n",
    "    # erode longest edges until min degree reached\n",
    "    edges = sorted([(e, g.edges[e]['weight']) for e in g.edges], key=lambda e: e[1], reverse=True)\n",
    "    edges, _ = map(list, zip(*edges))\n",
    "\n",
    "    h = g.edge_subgraph(edges)\n",
    "    while min(dict(nx.degree(h)).values()) > min_degree:\n",
    "        edges.pop(0)\n",
    "        h = g.edge_subgraph(edges)\n",
    "\n",
    "    nx.set_edge_attributes(g, False, 'md_nn')\n",
    "    for e in edges:\n",
    "        g.edges[e]['md_nn'] = True\n"
   ]
  },
  {
   "cell_type": "code",
   "execution_count": null,
   "id": "unable-privilege",
   "metadata": {},
   "outputs": [],
   "source": [
    "def set_depot_weight(g, depot):\n",
    "    for n in g.nodes:\n",
    "        if n == depot:\n",
    "            g.nodes[n]['depot_weight'] = 0\n",
    "        else:\n",
    "            g.nodes[n]['depot_weight'] = g.edges[(depot, n)]['weight']\n",
    "            "
   ]
  },
  {
   "cell_type": "code",
   "execution_count": null,
   "id": "interpreted-disabled",
   "metadata": {},
   "outputs": [],
   "source": [
    "def set_fancy_graph_features(g):\n",
    "    cf_bc = nx.edge_current_flow_betweenness_centrality(g, weight='weight')\n",
    "    sp_bc = nx.edge_betweenness_centrality(g, weight='weight')\n",
    "\n",
    "    sp_cc = nx.closeness_centrality(g, distance='weight')\n",
    "    cf_cc = nx.current_flow_closeness_centrality(g, weight='weight')\n",
    "    cl = nx.clustering(g, weight='weight')\n",
    "\n",
    "    nx.set_edge_attributes(g, sp_bc, 'sp_betweenness')\n",
    "    nx.set_edge_attributes(g, cf_bc, 'cf_betweenness')\n",
    "    nx.set_node_attributes(g, sp_cc, 'sp_closeness')\n",
    "    nx.set_node_attributes(g, cf_cc, 'cf_closeness')\n",
    "    nx.set_node_attributes(g, cl, 'clustering')\n",
    "    "
   ]
  },
  {
   "cell_type": "markdown",
   "id": "charming-bangkok",
   "metadata": {},
   "source": [
    "# Prepare dataset"
   ]
  },
  {
   "cell_type": "code",
   "execution_count": null,
   "id": "central-warner",
   "metadata": {},
   "outputs": [],
   "source": [
    "for nodes in tqdm.tqdm(nx.connected_components(G)):\n",
    "    g = G.subgraph(nodes)\n",
    "\n",
    "    depot = next(iter(g.nodes))\n",
    "    set_greedy_tour(g, depot)\n",
    "    set_depot_weight(g, depot)\n",
    "\n",
    "    nn_levels = [int(x*len(g.nodes)) for x in [0.1, 0.2, 0.3]]\n",
    "    min_degree = 2\n",
    "    set_neighbour_features(g, nn_levels, min_degree)\n",
    "\n",
    "    set_fancy_graph_features(g)\n",
    "    \n",
    "    for e in g.edges:\n",
    "        i, j = e\n",
    "        features = np.array([\n",
    "            g.edges[e]['weight'],\n",
    "            g.edges[e]['in_greedy_solution'],\n",
    "            g.edges[e]['neighbour'][i],\n",
    "            g.edges[e]['neighbour'][j],\n",
    "            g.edges[e]['nn_clique'],\n",
    "            g.edges[e]['0_nn'],\n",
    "            g.edges[e]['1_nn'],\n",
    "            g.edges[e]['2_nn'],\n",
    "            g.edges[e]['md_nn'],\n",
    "#             g.edges[e]['sp_betweenness'], # the same for every node\n",
    "            g.edges[e]['cf_betweenness'],\n",
    "            g.nodes[i]['depot_weight'],\n",
    "            g.nodes[j]['depot_weight'],\n",
    "            g.nodes[i]['sp_closeness'],\n",
    "            g.nodes[j]['sp_closeness'],\n",
    "            g.nodes[i]['cf_closeness'],\n",
    "            g.nodes[j]['cf_closeness'],\n",
    "            g.nodes[i]['clustering'],\n",
    "            g.nodes[j]['clustering'],\n",
    "        ], dtype=np.float32)\n",
    "        label = np.array([\n",
    "            g.edges[e]['in_solution'],\n",
    "        ]).astype(np.int64)\n",
    "        \n",
    "        g.edges[e]['x'] = features\n",
    "        g.edges[e]['y'] = label"
   ]
  },
  {
   "cell_type": "code",
   "execution_count": null,
   "id": "going-threat",
   "metadata": {},
   "outputs": [],
   "source": [
    "from sklearn.preprocessing import MinMaxScaler\n",
    "\n",
    "scaler = MinMaxScaler().fit(np.vstack([g.edges[e]['x'] for e in g.edges]))"
   ]
  },
  {
   "cell_type": "code",
   "execution_count": null,
   "id": "applicable-behalf",
   "metadata": {},
   "outputs": [],
   "source": [
    "dgl_graphs = []\n",
    "nx_graphs = []\n",
    "\n",
    "for nodes in tqdm.tqdm(nx.connected_components(G)):\n",
    "    g = G.subgraph(nodes)\n",
    "    lg = nx.line_graph(g)\n",
    "#     lg.add_edges_from(zip(lg.nodes, lg.nodes))\n",
    "    \n",
    "    for e_i, e in enumerate(lg.nodes):\n",
    "        features = g.edges[e]['x']\n",
    "        label = g.edges[e]['y']\n",
    "        lg.nodes[e]['x'] = scaler.transform(features[np.newaxis, :]).squeeze()\n",
    "        lg.nodes[e]['y'] = label\n",
    "        lg.nodes[e]['e'] = e\n",
    "        \n",
    "    dgl_g = dgl.from_networkx(lg, node_attrs=['x', 'y', 'e'])\n",
    "    \n",
    "    dgl_graphs.append(dgl_g)\n",
    "    nx_graphs.append(g)\n",
    "    "
   ]
  },
  {
   "cell_type": "code",
   "execution_count": null,
   "id": "conceptual-closer",
   "metadata": {},
   "outputs": [],
   "source": [
    "dgl.data.utils.save_graphs(f'../data/dgl_graphs_{backend}.bin', dgl_graphs)"
   ]
  },
  {
   "cell_type": "code",
   "execution_count": null,
   "id": "returning-analysis",
   "metadata": {},
   "outputs": [],
   "source": [
    "nx.write_gpickle(nx_graphs, f'../data/nx_graphs_{backend}.pkl')"
   ]
  },
  {
   "cell_type": "code",
   "execution_count": null,
   "id": "annoying-screen",
   "metadata": {},
   "outputs": [],
   "source": [
    "cmap_colors = np.zeros((100, 4))\n",
    "cmap_colors[:, 0] = 1\n",
    "cmap_colors[:, 3] = np.linspace(0, 1, 100)\n",
    "cmap = ListedColormap(cmap_colors)"
   ]
  },
  {
   "cell_type": "code",
   "execution_count": null,
   "id": "nutritional-warren",
   "metadata": {},
   "outputs": [],
   "source": [
    "fig, axes = plt.subplots(1, 3, figsize=(15, 5))\n",
    "\n",
    "for i, (ax, g) in enumerate(zip(axes, nx_graphs[:3])):\n",
    "    pos = {n: (g.nodes[n]['x'], g.nodes[n]['y']) for n in g.nodes}\n",
    "    in_solution = nx.get_edge_attributes(g, 'in_solution')\n",
    "\n",
    "    nx.draw(g, pos, edge_color=in_solution.values(), ax=ax, edge_cmap=cmap, edge_vmax=1, edge_vmin=0)\n",
    "    ax.set_title(f'Instance {i}')"
   ]
  },
  {
   "cell_type": "code",
   "execution_count": null,
   "id": "copyrighted-illustration",
   "metadata": {},
   "outputs": [],
   "source": [
    "fig, ax = plt.subplots(1, 1, figsize=(5, 5))\n",
    "\n",
    "g = nx_graphs[0]\n",
    "\n",
    "feature_name = 'in_solution'\n",
    "pos = {n: (g.nodes[n]['x'], g.nodes[n]['y']) for n in g.nodes}\n",
    "feature = nx.get_edge_attributes(g, feature_name)\n",
    "\n",
    "nx.draw(g, pos, edge_color=feature.values(), ax=ax, edge_cmap=cmap)\n",
    "ax.set_title(feature_name)\n",
    "# fig.savefig(f'{feature_name}.png')"
   ]
  },
  {
   "cell_type": "code",
   "execution_count": null,
   "id": "surprised-metadata",
   "metadata": {},
   "outputs": [],
   "source": []
  }
 ],
 "metadata": {
  "kernelspec": {
   "display_name": "Python 3",
   "language": "python",
   "name": "python3"
  },
  "language_info": {
   "codemirror_mode": {
    "name": "ipython",
    "version": 3
   },
   "file_extension": ".py",
   "mimetype": "text/x-python",
   "name": "python",
   "nbconvert_exporter": "python",
   "pygments_lexer": "ipython3",
   "version": "3.8.2"
  }
 },
 "nbformat": 4,
 "nbformat_minor": 5
}
