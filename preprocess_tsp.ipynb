{
 "cells": [
  {
   "cell_type": "code",
   "execution_count": null,
   "metadata": {},
   "outputs": [],
   "source": [
    "import pathlib\n",
    "import time\n",
    "import networkx as nx\n",
    "import itertools\n",
    "import numpy as np\n",
    "import os\n",
    "\n",
    "def parse_problem(line):\n",
    "    problem_str, solution_str = line.split('output')\n",
    "    \n",
    "    G = nx.Graph()\n",
    "    \n",
    "    problem_i = iter(problem_str.strip().split(' '))\n",
    "    for x in problem_i:\n",
    "        y = next(problem_i)\n",
    "        pos = np.array([float(x), float(y)])\n",
    "        G.add_node(len(G.nodes), pos=pos)\n",
    "\n",
    "    solution = [int(x) - 1 for x in solution_str.strip().split(' ')]\n",
    "    solution_edges = [e for e in zip(solution[:-1], solution[1:])]\n",
    "\n",
    "    for i, j in itertools.combinations(G.nodes, 2):\n",
    "        # length of edge\n",
    "        d = np.linalg.norm(G.nodes[i]['pos'] - G.nodes[j]['pos'])\n",
    "        # dist from depot to nodes\n",
    "        di = np.linalg.norm(G.nodes[i]['pos'] - G.nodes[0]['pos'])\n",
    "        dj = np.linalg.norm(G.nodes[j]['pos'] - G.nodes[0]['pos'])\n",
    "        # avg dist from depot to nodes\n",
    "        dij = (di + dj)/2\n",
    "        in_sol = (i, j) in solution_edges or (j, i) in solution_edges\n",
    "        G.add_edge(i, j, dist=d, dist_to_depot=dij, in_sol=in_sol)\n",
    "\n",
    "    k = 5\n",
    "    nx.set_edge_attributes(G, False, 'nn')\n",
    "    for source, paths in nx.shortest_path_length(G, weight='dist'):\n",
    "        nn = sorted(paths.items(), key=lambda x: x[1])\n",
    "        for dest, dist in nn[1:k + 1]:\n",
    "            G.edges[source, dest]['nn'] = True\n",
    "        \n",
    "    return G\n",
    "\n",
    "data_path = pathlib.Path('.')\n",
    "os.makedirs('data', exist_ok=True)\n",
    "with open(data_path / 'tsp30_concorde.txt') as data_file:\n",
    "    for line_i, line in enumerate(data_file):\n",
    "        G = parse_problem(line)\n",
    "        nx.write_gpickle(G, path=f'data/g{line_i}.pkl')"
   ]
  },
  {
   "cell_type": "code",
   "execution_count": null,
   "metadata": {},
   "outputs": [],
   "source": [
    "import matplotlib.pyplot as plt"
   ]
  },
  {
   "cell_type": "code",
   "execution_count": null,
   "metadata": {},
   "outputs": [],
   "source": [
    "%matplotlib notebook"
   ]
  },
  {
   "cell_type": "code",
   "execution_count": null,
   "metadata": {},
   "outputs": [],
   "source": [
    "G = nx.read_gpickle('data/g9999.pkl')\n",
    "\n",
    "plt.figure()\n",
    "pos = nx.get_node_attributes(G, 'pos')\n",
    "edge_colors = [float(v) for k, v in nx.get_edge_attributes(G, 'nn').items()]\n",
    "nx.draw(G, pos, edge_color=edge_colors, edge_cmap=plt.cm.viridis)"
   ]
  },
  {
   "cell_type": "code",
   "execution_count": null,
   "metadata": {},
   "outputs": [],
   "source": [
    "plt.figure()\n",
    "\n",
    "pos = nx.get_node_attributes(G, 'pos')\n",
    "edge_list = [e for e in G.edges if G.edges[e]['in_sol']]\n",
    "nx.draw(G, pos, edgelist=edge_list, with_labels=True)"
   ]
  },
  {
   "cell_type": "code",
   "execution_count": null,
   "metadata": {},
   "outputs": [],
   "source": []
  }
 ],
 "metadata": {
  "kernelspec": {
   "display_name": "Python 3",
   "language": "python",
   "name": "python3"
  },
  "language_info": {
   "codemirror_mode": {
    "name": "ipython",
    "version": 3
   },
   "file_extension": ".py",
   "mimetype": "text/x-python",
   "name": "python",
   "nbconvert_exporter": "python",
   "pygments_lexer": "ipython3",
   "version": "3.8.5"
  }
 },
 "nbformat": 4,
 "nbformat_minor": 4
}
